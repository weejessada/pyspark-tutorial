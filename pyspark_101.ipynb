{
  "nbformat": 4,
  "nbformat_minor": 0,
  "metadata": {
    "colab": {
      "provenance": []
    },
    "kernelspec": {
      "name": "python3",
      "display_name": "Python 3"
    },
    "language_info": {
      "name": "python"
    }
  },
  "cells": [
    {
      "cell_type": "markdown",
      "metadata": {
        "id": "sCJilX-ybl7c"
      },
      "source": [
        "# PySpark on Google Colab 101"
      ]
    },
    {
      "cell_type": "markdown",
      "metadata": {
        "id": "o8uL463oFKkv"
      },
      "source": [
        "In this article, we will see how we can run PySpark in a Google Colaboratory notebook. We will also perform some basic data exploratory tasks common to most data science problems. So, let’s get cracking!"
      ]
    },
    {
      "cell_type": "code",
      "metadata": {
        "id": "ixLSds_jw4Ff"
      },
      "source": [
        "!apt-get install openjdk-8-jdk-headless -qq > /dev/null"
      ],
      "execution_count": 1,
      "outputs": []
    },
    {
      "cell_type": "code",
      "metadata": {
        "id": "WA4ebxjl8IR3"
      },
      "source": [
        "!wget -q https://archive.apache.org/dist/spark/spark-3.3.1/spark-3.3.1-bin-hadoop3.tgz"
      ],
      "execution_count": 2,
      "outputs": []
    },
    {
      "cell_type": "code",
      "metadata": {
        "id": "7otLhujY8IUy"
      },
      "source": [
        "!tar xf spark-3.3.1-bin-hadoop3.tgz"
      ],
      "execution_count": 3,
      "outputs": []
    },
    {
      "cell_type": "code",
      "metadata": {
        "id": "cSZL-2_T8IYH"
      },
      "source": [
        "!pip install -q findspark"
      ],
      "execution_count": 4,
      "outputs": []
    },
    {
      "cell_type": "code",
      "metadata": {
        "id": "_Rvkvf2Vw6Fo"
      },
      "source": [
        "import os\n",
        "os.environ[\"JAVA_HOME\"] = \"/usr/lib/jvm/java-8-openjdk-amd64\"\n",
        "os.environ[\"SPARK_HOME\"] = \"/content/spark-3.3.1-bin-hadoop3\""
      ],
      "execution_count": 5,
      "outputs": []
    },
    {
      "cell_type": "code",
      "metadata": {
        "id": "alfg07gY8759"
      },
      "source": [
        "import findspark\n",
        "findspark.init()"
      ],
      "execution_count": 6,
      "outputs": []
    },
    {
      "cell_type": "code",
      "metadata": {
        "id": "0X6A0Wip73Kr"
      },
      "source": [
        "from pyspark.sql import SparkSession\n",
        "# spark = SparkSession.builder.master(\"local[*]\").getOrCreate()\n",
        "spark = SparkSession.builder\\\n",
        "        .master(\"local\")\\\n",
        "        .appName(\"Colab\")\\\n",
        "        .config('spark.ui.port', '4050')\\\n",
        "        .getOrCreate()"
      ],
      "execution_count": 8,
      "outputs": []
    },
    {
      "cell_type": "code",
      "metadata": {
        "colab": {
          "base_uri": "https://localhost:8080/",
          "height": 221
        },
        "id": "hkPDlNNO9RF-",
        "outputId": "e8358223-21c6-45ee-8424-fc71658caf93"
      },
      "source": [
        "spark"
      ],
      "execution_count": 9,
      "outputs": [
        {
          "output_type": "execute_result",
          "data": {
            "text/plain": [
              "<pyspark.sql.session.SparkSession at 0x7f6a43011250>"
            ],
            "text/html": [
              "\n",
              "            <div>\n",
              "                <p><b>SparkSession - in-memory</b></p>\n",
              "                \n",
              "        <div>\n",
              "            <p><b>SparkContext</b></p>\n",
              "\n",
              "            <p><a href=\"http://80e5bbb0451d:4050\">Spark UI</a></p>\n",
              "\n",
              "            <dl>\n",
              "              <dt>Version</dt>\n",
              "                <dd><code>v3.3.1</code></dd>\n",
              "              <dt>Master</dt>\n",
              "                <dd><code>local</code></dd>\n",
              "              <dt>AppName</dt>\n",
              "                <dd><code>Colab</code></dd>\n",
              "            </dl>\n",
              "        </div>\n",
              "        \n",
              "            </div>\n",
              "        "
            ]
          },
          "metadata": {},
          "execution_count": 9
        }
      ]
    },
    {
      "cell_type": "code",
      "metadata": {
        "id": "aFlJRezL9txG",
        "colab": {
          "base_uri": "https://localhost:8080/"
        },
        "outputId": "c70d17fa-2ab3-40cb-bdfa-441f85313297"
      },
      "source": [
        "!wget --continue https://raw.githubusercontent.com/weejessada/pyspark-tutorial/main/sample-data/iris.csv -O /tmp/iris.csv"
      ],
      "execution_count": 10,
      "outputs": [
        {
          "output_type": "stream",
          "name": "stdout",
          "text": [
            "--2023-01-16 02:46:18--  https://raw.githubusercontent.com/weejessada/pyspark-tutorial/main/sample-data/iris.csv\n",
            "Resolving raw.githubusercontent.com (raw.githubusercontent.com)... 185.199.108.133, 185.199.109.133, 185.199.111.133, ...\n",
            "Connecting to raw.githubusercontent.com (raw.githubusercontent.com)|185.199.108.133|:443... connected.\n",
            "HTTP request sent, awaiting response... 200 OK\n",
            "Length: 4550 (4.4K) [text/plain]\n",
            "Saving to: ‘/tmp/iris.csv’\n",
            "\n",
            "\r/tmp/iris.csv         0%[                    ]       0  --.-KB/s               \r/tmp/iris.csv       100%[===================>]   4.44K  --.-KB/s    in 0s      \n",
            "\n",
            "2023-01-16 02:46:18 (42.4 MB/s) - ‘/tmp/iris.csv’ saved [4550/4550]\n",
            "\n"
          ]
        }
      ]
    },
    {
      "cell_type": "code",
      "metadata": {
        "id": "zEA-RW5Sw6aD"
      },
      "source": [
        " # Read CSV file into dataframe\n",
        "df = (spark\n",
        "        .read\n",
        "        .option(\"header\",\"false\")\n",
        "        .option(\"inferSchema\", \"true\")\n",
        "        .csv(\"/tmp/iris.csv\"))"
      ],
      "execution_count": 11,
      "outputs": []
    },
    {
      "cell_type": "code",
      "source": [
        "type(df)"
      ],
      "metadata": {
        "colab": {
          "base_uri": "https://localhost:8080/"
        },
        "id": "Igmq-R4Uh3X8",
        "outputId": "b363f1dc-3b7d-403f-dada-8e320e22a439"
      },
      "execution_count": 33,
      "outputs": [
        {
          "output_type": "execute_result",
          "data": {
            "text/plain": [
              "pyspark.sql.dataframe.DataFrame"
            ]
          },
          "metadata": {},
          "execution_count": 33
        }
      ]
    },
    {
      "cell_type": "code",
      "metadata": {
        "colab": {
          "base_uri": "https://localhost:8080/"
        },
        "id": "0thOUfXb96AI",
        "outputId": "cbf948b4-e87e-4594-a201-952af9ac44b6"
      },
      "source": [
        "df.printSchema()"
      ],
      "execution_count": 12,
      "outputs": [
        {
          "output_type": "stream",
          "name": "stdout",
          "text": [
            "root\n",
            " |-- _c0: double (nullable = true)\n",
            " |-- _c1: double (nullable = true)\n",
            " |-- _c2: double (nullable = true)\n",
            " |-- _c3: double (nullable = true)\n",
            " |-- _c4: string (nullable = true)\n",
            "\n"
          ]
        }
      ]
    },
    {
      "cell_type": "code",
      "metadata": {
        "colab": {
          "base_uri": "https://localhost:8080/"
        },
        "id": "b6ZlToW096NF",
        "outputId": "f371a15d-c5b3-4c10-933e-5c046f794192"
      },
      "source": [
        "df.show(20,False)"
      ],
      "execution_count": 13,
      "outputs": [
        {
          "output_type": "stream",
          "name": "stdout",
          "text": [
            "+---+---+---+---+-----------+\n",
            "|_c0|_c1|_c2|_c3|_c4        |\n",
            "+---+---+---+---+-----------+\n",
            "|5.1|3.5|1.4|0.2|Iris-setosa|\n",
            "|4.9|3.0|1.4|0.2|Iris-setosa|\n",
            "|4.7|3.2|1.3|0.2|Iris-setosa|\n",
            "|4.6|3.1|1.5|0.2|Iris-setosa|\n",
            "|5.0|3.6|1.4|0.2|Iris-setosa|\n",
            "|5.4|3.9|1.7|0.4|Iris-setosa|\n",
            "|4.6|3.4|1.4|0.3|Iris-setosa|\n",
            "|5.0|3.4|1.5|0.2|Iris-setosa|\n",
            "|4.4|2.9|1.4|0.2|Iris-setosa|\n",
            "|4.9|3.1|1.5|0.1|Iris-setosa|\n",
            "|5.4|3.7|1.5|0.2|Iris-setosa|\n",
            "|4.8|3.4|1.6|0.2|Iris-setosa|\n",
            "|4.8|3.0|1.4|0.1|Iris-setosa|\n",
            "|4.3|3.0|1.1|0.1|Iris-setosa|\n",
            "|5.8|4.0|1.2|0.2|Iris-setosa|\n",
            "|5.7|4.4|1.5|0.4|Iris-setosa|\n",
            "|5.4|3.9|1.3|0.4|Iris-setosa|\n",
            "|5.1|3.5|1.4|0.3|Iris-setosa|\n",
            "|5.7|3.8|1.7|0.3|Iris-setosa|\n",
            "|5.1|3.8|1.5|0.3|Iris-setosa|\n",
            "+---+---+---+---+-----------+\n",
            "only showing top 20 rows\n",
            "\n"
          ]
        }
      ]
    },
    {
      "cell_type": "code",
      "metadata": {
        "colab": {
          "base_uri": "https://localhost:8080/"
        },
        "id": "dk7pbSKN-chR",
        "outputId": "62e6520f-fbdd-4d54-fbfb-b94796002a3c"
      },
      "source": [
        "df.count()"
      ],
      "execution_count": 14,
      "outputs": [
        {
          "output_type": "execute_result",
          "data": {
            "text/plain": [
              "150"
            ]
          },
          "metadata": {},
          "execution_count": 14
        }
      ]
    },
    {
      "cell_type": "code",
      "metadata": {
        "colab": {
          "base_uri": "https://localhost:8080/"
        },
        "id": "OeAe8N4a-ckh",
        "outputId": "ed440804-d3ba-4a9c-b631-7353e2c3a0cf"
      },
      "source": [
        "#change column name\n",
        "renamed_df = df.selectExpr(\"_c0 as sepal_length\", \"_c1 as sepal_width\", \n",
        "                           \"_c2 as petal_length\",\"_c3 as petal_width\",\"_c4\")\n",
        "renamed_df = renamed_df.withColumnRenamed(\"_c4\",\"label\")\n",
        "\n",
        "renamed_df.show(5)\n",
        "\n",
        "print(\"\\n\")\n",
        "\n",
        "renamed_df.printSchema()"
      ],
      "execution_count": 15,
      "outputs": [
        {
          "output_type": "stream",
          "name": "stdout",
          "text": [
            "+------------+-----------+------------+-----------+-----------+\n",
            "|sepal_length|sepal_width|petal_length|petal_width|      label|\n",
            "+------------+-----------+------------+-----------+-----------+\n",
            "|         5.1|        3.5|         1.4|        0.2|Iris-setosa|\n",
            "|         4.9|        3.0|         1.4|        0.2|Iris-setosa|\n",
            "|         4.7|        3.2|         1.3|        0.2|Iris-setosa|\n",
            "|         4.6|        3.1|         1.5|        0.2|Iris-setosa|\n",
            "|         5.0|        3.6|         1.4|        0.2|Iris-setosa|\n",
            "+------------+-----------+------------+-----------+-----------+\n",
            "only showing top 5 rows\n",
            "\n",
            "\n",
            "\n",
            "root\n",
            " |-- sepal_length: double (nullable = true)\n",
            " |-- sepal_width: double (nullable = true)\n",
            " |-- petal_length: double (nullable = true)\n",
            " |-- petal_width: double (nullable = true)\n",
            " |-- label: string (nullable = true)\n",
            "\n"
          ]
        }
      ]
    },
    {
      "cell_type": "code",
      "source": [
        "#select distinct\n",
        "renamed_df.select(\"label\").distinct().show()"
      ],
      "metadata": {
        "colab": {
          "base_uri": "https://localhost:8080/"
        },
        "id": "1BHHk3CXgpIY",
        "outputId": "72d197e5-2c8b-4b42-9093-70d8d47f9cb1"
      },
      "execution_count": 32,
      "outputs": [
        {
          "output_type": "stream",
          "name": "stdout",
          "text": [
            "+---------------+\n",
            "|          label|\n",
            "+---------------+\n",
            "| Iris-virginica|\n",
            "|    Iris-setosa|\n",
            "|Iris-versicolor|\n",
            "+---------------+\n",
            "\n"
          ]
        }
      ]
    },
    {
      "cell_type": "code",
      "metadata": {
        "id": "b4U6xkov-cnG",
        "colab": {
          "base_uri": "https://localhost:8080/"
        },
        "outputId": "6a251619-4196-463c-ff9c-8909e4c8a048"
      },
      "source": [
        "from pyspark.sql.functions import col\n",
        "\n",
        "#filter column\n",
        "df_filtered = renamed_df.filter(col(\"label\") == \"Iris-virginica\")\n",
        "df_filtered.show(5)\n",
        "\n",
        "print(f\"count df_filtered : {df_filtered.count()}\")"
      ],
      "execution_count": 42,
      "outputs": [
        {
          "output_type": "stream",
          "name": "stdout",
          "text": [
            "+------------+-----------+------------+-----------+--------------+\n",
            "|sepal_length|sepal_width|petal_length|petal_width|         label|\n",
            "+------------+-----------+------------+-----------+--------------+\n",
            "|         6.3|        3.3|         6.0|        2.5|Iris-virginica|\n",
            "|         5.8|        2.7|         5.1|        1.9|Iris-virginica|\n",
            "|         7.1|        3.0|         5.9|        2.1|Iris-virginica|\n",
            "|         6.3|        2.9|         5.6|        1.8|Iris-virginica|\n",
            "|         6.5|        3.0|         5.8|        2.2|Iris-virginica|\n",
            "+------------+-----------+------------+-----------+--------------+\n",
            "only showing top 5 rows\n",
            "\n",
            "count df_filtered : 50\n"
          ]
        }
      ]
    },
    {
      "cell_type": "code",
      "metadata": {
        "colab": {
          "base_uri": "https://localhost:8080/"
        },
        "id": "plXRfFBq-cpu",
        "outputId": "05340d21-06af-4a25-d289-85c76e04f63e"
      },
      "source": [
        "#select column\n",
        "df_filtered.select(\"sepal_length\", \"sepal_width\", \"label\").show(5, False)"
      ],
      "execution_count": 25,
      "outputs": [
        {
          "output_type": "stream",
          "name": "stdout",
          "text": [
            "+------------+-----------+--------------+\n",
            "|sepal_length|sepal_width|label         |\n",
            "+------------+-----------+--------------+\n",
            "|6.3         |3.3        |Iris-virginica|\n",
            "|5.8         |2.7        |Iris-virginica|\n",
            "|7.1         |3.0        |Iris-virginica|\n",
            "|6.3         |2.9        |Iris-virginica|\n",
            "|6.5         |3.0        |Iris-virginica|\n",
            "+------------+-----------+--------------+\n",
            "only showing top 5 rows\n",
            "\n"
          ]
        }
      ]
    },
    {
      "cell_type": "code",
      "source": [
        "#group by\n",
        "avg_df = renamed_df.groupBy(\"label\").avg(\"sepal_length\",\"sepal_width\",\"petal_length\",\"petal_width\")\n",
        "avg_df.show()"
      ],
      "metadata": {
        "colab": {
          "base_uri": "https://localhost:8080/"
        },
        "id": "ig-w5p72giOV",
        "outputId": "5c07d217-0f03-4043-a686-1ca66aed7dee"
      },
      "execution_count": 43,
      "outputs": [
        {
          "output_type": "stream",
          "name": "stdout",
          "text": [
            "+---------------+-----------------+------------------+-----------------+------------------+\n",
            "|          label|avg(sepal_length)|  avg(sepal_width)|avg(petal_length)|  avg(petal_width)|\n",
            "+---------------+-----------------+------------------+-----------------+------------------+\n",
            "| Iris-virginica|6.587999999999998|2.9739999999999998|            5.552|             2.026|\n",
            "|    Iris-setosa|5.005999999999999|3.4180000000000006|            1.464|0.2439999999999999|\n",
            "|Iris-versicolor|            5.936|2.7700000000000005|             4.26|1.3259999999999998|\n",
            "+---------------+-----------------+------------------+-----------------+------------------+\n",
            "\n"
          ]
        }
      ]
    },
    {
      "cell_type": "code",
      "source": [
        "#compute dataframe using sql command via string\n",
        "renamed_df.createOrReplaceTempView(\"iris\")\n",
        "all_df = spark.sql(\"select * from iris\")\n",
        "all_df.show()"
      ],
      "metadata": {
        "colab": {
          "base_uri": "https://localhost:8080/"
        },
        "id": "ecsCW5aQj-1f",
        "outputId": "8fbc6818-56d9-45de-acc1-f672ece05e64"
      },
      "execution_count": 44,
      "outputs": [
        {
          "output_type": "stream",
          "name": "stdout",
          "text": [
            "+------------+-----------+------------+-----------+-----------+\n",
            "|sepal_length|sepal_width|petal_length|petal_width|      label|\n",
            "+------------+-----------+------------+-----------+-----------+\n",
            "|         5.1|        3.5|         1.4|        0.2|Iris-setosa|\n",
            "|         4.9|        3.0|         1.4|        0.2|Iris-setosa|\n",
            "|         4.7|        3.2|         1.3|        0.2|Iris-setosa|\n",
            "|         4.6|        3.1|         1.5|        0.2|Iris-setosa|\n",
            "|         5.0|        3.6|         1.4|        0.2|Iris-setosa|\n",
            "|         5.4|        3.9|         1.7|        0.4|Iris-setosa|\n",
            "|         4.6|        3.4|         1.4|        0.3|Iris-setosa|\n",
            "|         5.0|        3.4|         1.5|        0.2|Iris-setosa|\n",
            "|         4.4|        2.9|         1.4|        0.2|Iris-setosa|\n",
            "|         4.9|        3.1|         1.5|        0.1|Iris-setosa|\n",
            "|         5.4|        3.7|         1.5|        0.2|Iris-setosa|\n",
            "|         4.8|        3.4|         1.6|        0.2|Iris-setosa|\n",
            "|         4.8|        3.0|         1.4|        0.1|Iris-setosa|\n",
            "|         4.3|        3.0|         1.1|        0.1|Iris-setosa|\n",
            "|         5.8|        4.0|         1.2|        0.2|Iris-setosa|\n",
            "|         5.7|        4.4|         1.5|        0.4|Iris-setosa|\n",
            "|         5.4|        3.9|         1.3|        0.4|Iris-setosa|\n",
            "|         5.1|        3.5|         1.4|        0.3|Iris-setosa|\n",
            "|         5.7|        3.8|         1.7|        0.3|Iris-setosa|\n",
            "|         5.1|        3.8|         1.5|        0.3|Iris-setosa|\n",
            "+------------+-----------+------------+-----------+-----------+\n",
            "only showing top 20 rows\n",
            "\n"
          ]
        }
      ]
    },
    {
      "cell_type": "code",
      "source": [],
      "metadata": {
        "id": "ER1aZO94kSaF"
      },
      "execution_count": null,
      "outputs": []
    }
  ]
}